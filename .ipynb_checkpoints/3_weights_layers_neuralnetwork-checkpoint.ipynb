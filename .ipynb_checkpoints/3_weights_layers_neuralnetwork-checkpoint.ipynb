{
 "cells": [
  {
   "cell_type": "markdown",
   "metadata": {},
   "source": [
    "-------\n",
    "##### Build a neural network with 4 layers (3 weight layers) using Python Programming where Mean Squared Error and sigmoid activation function should be employed as its loss function and activation function, respectively. Also, momentum term should be included in this basic Neural Network structure and Batch Gradient Descent should be used for training. The MNIST data set is available at http://yann.lecun.com/exdb/mnist/***\n",
    "-------"
   ]
  },
  {
   "cell_type": "code",
   "execution_count": 1,
   "metadata": {},
   "outputs": [
    {
     "name": "stderr",
     "output_type": "stream",
     "text": [
      "Using TensorFlow backend.\n"
     ]
    }
   ],
   "source": [
    "# linear algebra\n",
    "import numpy as np\n",
    "from random import randint\n",
    "\n",
    "# data processing, CSV file I/O (e.g. pd.read_csv)\n",
    "import pandas as pd\n",
    "\n",
    "# scipy.special for sigmoid function\n",
    "import scipy.special\n",
    "\n",
    "# visualizations\n",
    "import matplotlib.pyplot as plt\n",
    "plt.style.use('ggplot')\n",
    "\n",
    "\n",
    "%matplotlib inline\n",
    "\n",
    "# Data import\n",
    "\n",
    "from keras.datasets import mnist\n",
    "from keras.utils import np_utils\n",
    "import time\n",
    "\n",
    "np.random.seed(42)"
   ]
  },
  {
   "cell_type": "code",
   "execution_count": 2,
   "metadata": {},
   "outputs": [],
   "source": [
    "# Base Layer class\n",
    "class Layer:\n",
    "    def __init__(self):\n",
    "        self.input = None\n",
    "        self.output = None\n",
    "\n",
    "    # Input X is computed into the output Y for every layers\n",
    "    def forwardProp(self, input):\n",
    "        raise NotImplementedError\n",
    "\n",
    "    # computes dE/dX for a given dE/dY (and update parameters if any)\n",
    "    def backwardProp(self, output_error, learning_rate):\n",
    "        raise NotImplementedError\n",
    "        \n",
    "    def backwardPropmom(self, output_error, learning_rate):\n",
    "        raise NotImplementedError\n",
    "        "
   ]
  },
  {
   "cell_type": "code",
   "execution_count": 3,
   "metadata": {},
   "outputs": [],
   "source": [
    "# loss function and its derivative\n",
    "def mse_loss(y_true, y_pred):\n",
    "    return np.mean(np.power(y_true-y_pred, 2));\n",
    "\n",
    "def mse_loss_derivative(y_true, y_pred):\n",
    "    return 2*(y_pred-y_true)/y_true.size;"
   ]
  },
  {
   "cell_type": "code",
   "execution_count": 4,
   "metadata": {},
   "outputs": [],
   "source": [
    "# inherit from base class Layer\n",
    "class Dense(Layer):\n",
    "    # input_size = number of input neurons\n",
    "    # output_size = number of output neurons\n",
    "    def __init__(self, inputSize, outputSize):\n",
    "        self.weights = np.random.rand(inputSize, outputSize) - 0.5\n",
    "        self.bias = np.random.rand(1, outputSize) - 0.5\n",
    "        self.gamma=0.9\n",
    "        self.v=0\n",
    "\n",
    "    # returns output for a given input\n",
    "    def forwardProp(self, inputData):\n",
    "        self.input = inputData\n",
    "        self.output = np.dot(self.input, self.weights) + self.bias\n",
    "        return self.output\n",
    "\n",
    "    # computes dE/dW, dE/dB for a given outputError=dE/dY. Returns inputError=dE/dX.\n",
    "    def backwardProp(self, outputError, learningRate):\n",
    "        inputError = np.dot(outputError, self.weights.T)\n",
    "        weightsError = np.dot(self.input.T, outputError)\n",
    "        # dBias = outputError\n",
    "\n",
    "        # update parameters\n",
    "        self.weights -= learningRate * weightsError\n",
    "        self.bias -= learningRate * outputError\n",
    "        return inputError\n",
    "    \n",
    "    def backwardPropmom(self, outputError, learningRate):\n",
    "        inputError = np.dot(outputError, self.weights.T)\n",
    "        weightsError = np.dot(self.input.T, outputError)\n",
    "        # dBias = outputError\n",
    "\n",
    "        # update parameters\n",
    "        self.v = self.gamma*self.v -learningRate * weightsError\n",
    "        self.weights += self.v\n",
    "        self.bias -= learningRate * outputError\n",
    "        return inputError"
   ]
  },
  {
   "cell_type": "code",
   "execution_count": 5,
   "metadata": {},
   "outputs": [],
   "source": [
    "# inherit from base class Layer\n",
    "class ActivateLayer(Layer):\n",
    "    def __init__(self, activation, activation_prime):\n",
    "        self.activation = activation\n",
    "        self.activation_prime = activation_prime\n",
    "\n",
    "    # returns the activated input\n",
    "    def forwardProp(self, inputData):\n",
    "        self.input = inputData\n",
    "        self.output = self.activation(self.input)\n",
    "        return self.output\n",
    "\n",
    "    # Returns inputError=dE/dX for a given outputError=dE/dY.\n",
    "    # learning_rate is not used because there is no \"learnable\" parameters.\n",
    "    def backwardProp(self, outputError, learningRate):\n",
    "        return self.activation_prime(self.input) * outputError\n",
    "    def backwardPropmom(self, outputError, learningRate):\n",
    "        return self.activation_prime(self.input) * outputError"
   ]
  },
  {
   "cell_type": "code",
   "execution_count": 6,
   "metadata": {},
   "outputs": [],
   "source": [
    "class neuralNetwork:\n",
    "    def __init__(self):\n",
    "        self.layers = []\n",
    "        self.mse_loss= None\n",
    "        self.mse_loss_derivative = None\n",
    "\n",
    "    # add layer to network\n",
    "    def add_layer(self, layer):\n",
    "        self.layers.append(layer)\n",
    "\n",
    "    # set loss to use\n",
    "    def use_lossfunc(self, mse_loss, mse_loss_derivative):\n",
    "        self.mse_loss = mse_loss\n",
    "        self.mse_loss_derivative = mse_loss_derivative\n",
    "\n",
    "    # predict output for given input\n",
    "    def predict_output(self, inputData):\n",
    "        # sample dimension first\n",
    "        samples = len(inputData)\n",
    "        result = []\n",
    "\n",
    "        # run network over all samples\n",
    "        for i in range(samples):\n",
    "            # forward propagation\n",
    "            output = inputData[i]\n",
    "            for layer in self.layers:\n",
    "                output = layer.forwardProp(output)\n",
    "            result.append(output)\n",
    "\n",
    "        return result\n",
    "    \n",
    "    def accuracy(self,x_train,y_train,x_test,y_test):\n",
    "        train_accuracy=[]\n",
    "        test_accuracy=[]\n",
    "        size=len(x_train)\n",
    "        train_output=self.predict_output(x_train[0:size])\n",
    "        test_output=self.predict_output(x_test[0:size])\n",
    "        for i in range(1,size):\n",
    "            delta_train=mse_loss(y_train[0:i],train_output)\n",
    "            delta_test=mse_loss(y_train[0:i],test_output)\n",
    "            train_accuracy.append(delta_train)\n",
    "            test_accuracy.append(delta_test)\n",
    "        fig, ax = plt.subplots()\n",
    "        ax.plot(train_accuracy, '-r', label=' Training accuracy')\n",
    "        ax.plot(test_accuracy, '-g', label=' Testing accuracy')\n",
    "        leg = ax.legend(title='Learning curves');\n",
    "\n",
    "        plt.show()\n",
    "        return train_accuracy,test_accuracy\n",
    "\n",
    "    # train the network\n",
    "    def train_network(self, x_train, y_train, epochs, learningRate):\n",
    "        # sample dimension first\n",
    "        samples = len(x_train)\n",
    "        errorList = []\n",
    "        for i in range(epochs):\n",
    "            err = 0\n",
    "            for j in range(samples):\n",
    "                # forward propagation\n",
    "                output = x_train[j]\n",
    "                for layer in self.layers:\n",
    "                    output = layer.forwardProp(output)\n",
    "\n",
    "                # compute loss (for display purpose only)\n",
    "                err += self.mse_loss(y_train[j], output)\n",
    "\n",
    "                # backward propagation\n",
    "                error = self.mse_loss_derivative(y_train[j], output)\n",
    "                for layer in reversed(self.layers):\n",
    "                    error = layer.backwardProp(error, learningRate)\n",
    "                    \n",
    "            # calculate average error on all samples\n",
    "            err /= samples\n",
    "            errorList.append(err)\n",
    "            \n",
    "        # show error's graph\n",
    "        return errorList\n",
    "    \n",
    "    def train_network_mom(self, x_train, y_train, epochs, learningRate):\n",
    "        # sample dimension first\n",
    "        samples = len(x_train)\n",
    "        errorList = []\n",
    "        for i in range(epochs):\n",
    "            err = 0\n",
    "            for j in range(samples):\n",
    "                # forward propagation\n",
    "                output = x_train[j]\n",
    "                for layer in self.layers:\n",
    "                    output = layer.forwardProp(output)\n",
    "\n",
    "                # compute loss (for display purpose only)\n",
    "                err += self.mse_loss(y_train[j], output)\n",
    "\n",
    "                # backward propagation\n",
    "                error = self.mse_loss_derivative(y_train[j], output)\n",
    "                for layer in reversed(self.layers):\n",
    "                    error = layer.backwardPropmom(error, learningRate)\n",
    "                    \n",
    "            # calculate average error on all samples\n",
    "            err /= samples\n",
    "            errorList.append(err)\n",
    "            \n",
    "        # show error's graph\n",
    "        return errorList\n",
    "    \n",
    "    def plot_learning_curves(self, X_train, X_test, y_train, y_test, size, iterations, learning_rate):\n",
    "        train_errors, test_errors = [], []\n",
    "\n",
    "        self.train_network(X_train[:size], y_train[:size], epochs=iterations, learningRate=learning_rate)\n",
    "\n",
    "        labels_train_predict = self.predict_output(X_train[:size])\n",
    "        labels_test_predict = self.predict_output(X_test[:size])\n",
    "\n",
    "        for m in range(1, size):\n",
    "            train_errors.append(mse_loss(y_train[:m], labels_train_predict))\n",
    "            test_errors.append(mse_loss(y_test[:m], labels_test_predict))\n",
    "\n",
    "        #plt.plot(np.sqrt(train_errors), \"r-+\", linewidth=2, label=\"train\")\n",
    "        #plt.plot(np.sqrt(test_errors), \"b-\", linewidth=3, label=\"test\")\n",
    "        #plt.legend(loc=\"upper right\", fontsize=14)\n",
    "        #plt.xlabel(\"Training set size\", fontsize=14)\n",
    "        #plt.plot(train_errors,label='train errors')\n",
    "        #plt.plot(test_errors,label='test errors')\n",
    "        plt.legend(loc='best')\n",
    "        plt.grid()\n",
    "        plt.show()"
   ]
  },
  {
   "cell_type": "code",
   "execution_count": 7,
   "metadata": {},
   "outputs": [],
   "source": [
    "class neuralNetwork_mom:\n",
    "    def __init__(self):\n",
    "        self.layers = []\n",
    "        self.mse_loss= None\n",
    "        self.mse_loss_derivative = None\n",
    "\n",
    "    # add layer to network\n",
    "    def add_layer(self, layer):\n",
    "        self.layers.append(layer)\n",
    "\n",
    "    # set loss to use\n",
    "    def use_lossfunc(self, mse_loss, mse_loss_derivative):\n",
    "        self.mse_loss = mse_loss\n",
    "        self.mse_loss_derivative = mse_loss_derivative\n",
    "\n",
    "    # predict output for given input\n",
    "    def predict_output(self, inputData):\n",
    "        # sample dimension first\n",
    "        samples = len(inputData)\n",
    "        result = []\n",
    "\n",
    "        # run network over all samples\n",
    "        for i in range(samples):\n",
    "            # forward propagation\n",
    "            output = inputData[i]\n",
    "            for layer in self.layers:\n",
    "                output = layer.forwardProp(output)\n",
    "            result.append(output)\n",
    "\n",
    "        return result\n",
    "    \n",
    "    def accuracy(self,x_train,y_train,x_test,y_test):\n",
    "        train_accuracy=[]\n",
    "        test_accuracy=[]\n",
    "        size=len(x_train)\n",
    "        train_output=self.predict_output(x_train[0:size])\n",
    "        test_output=self.predict_output(x_test[0:size])\n",
    "        for i in range(1,size):\n",
    "            delta_train=mse_loss(y_train[0:i],train_output)\n",
    "            delta_test=mse_loss(y_train[0:i],test_output)\n",
    "            train_accuracy.append(delta_train)\n",
    "            test_accuracy.append(delta_test)\n",
    "        fig, ax = plt.subplots()\n",
    "        ax.plot(train_accuracy, '-r', label=' Training accuracy')\n",
    "        ax.plot(test_accuracy, '-g', label=' Testing accuracy')\n",
    "        leg = ax.legend(title='Learning curves');\n",
    "\n",
    "        plt.show()\n",
    "        return train_accuracy,test_accuracy\n",
    "\n",
    "    \n",
    "    def train_network_mom(self, x_train, y_train, epochs, learningRate):\n",
    "        # sample dimension first\n",
    "        samples = len(x_train)\n",
    "        errorList = []\n",
    "        for i in range(epochs):\n",
    "            err = 0\n",
    "            for j in range(samples):\n",
    "                # forward propagation\n",
    "                output = x_train[j]\n",
    "                for layer in self.layers:\n",
    "                    output = layer.forwardProp(output)\n",
    "\n",
    "                # compute loss (for display purpose only)\n",
    "                err += self.mse_loss(y_train[j], output)\n",
    "\n",
    "                # backward propagation\n",
    "                error = self.mse_loss_derivative(y_train[j], output)\n",
    "                for layer in reversed(self.layers):\n",
    "                    error = layer.backwardPropmom(error, learningRate)\n",
    "                    \n",
    "            # calculate average error on all samples\n",
    "            err /= samples\n",
    "            errorList.append(err)\n",
    "            \n",
    "        # show error's graph\n",
    "        return errorList\n",
    "    \n",
    "    def plot_learning_curves(self, X_train, X_test, y_train, y_test, size, iterations, learning_rate):\n",
    "        train_errors, test_errors = [], []\n",
    "\n",
    "        self.train_network(X_train[:size], y_train[:size], epochs=iterations, learningRate=learning_rate)\n",
    "\n",
    "        labels_train_predict = self.predict_output(X_train[:size])\n",
    "        labels_test_predict = self.predict_output(X_test[:size])\n",
    "\n",
    "        for m in range(1, size):\n",
    "            train_errors.append(mse_loss(y_train[:m], labels_train_predict))\n",
    "            test_errors.append(mse_loss(y_test[:m], labels_test_predict))\n",
    "\n",
    "        #plt.plot(np.sqrt(train_errors), \"r-+\", linewidth=2, label=\"train\")\n",
    "        #plt.plot(np.sqrt(test_errors), \"b-\", linewidth=3, label=\"test\")\n",
    "        #plt.legend(loc=\"upper right\", fontsize=14)\n",
    "        #plt.xlabel(\"Training set size\", fontsize=14)\n",
    "        #plt.plot(train_errors,label='train errors')\n",
    "        #plt.plot(test_errors,label='test errors')\n",
    "        plt.legend(loc='best')\n",
    "        plt.grid()\n",
    "        plt.show()"
   ]
  },
  {
   "cell_type": "code",
   "execution_count": 8,
   "metadata": {},
   "outputs": [
    {
     "data": {
      "image/png": "[encoded data removed]",
      "text/plain": [
       "<Figure size 432x432 with 4 Axes>"
      ]
     },
     "metadata": {
      "needs_background": "light"
     },
     "output_type": "display_data"
    }
   ],
   "source": [
    "(X_train, y_train), (X_test, y_test) = mnist.load_data()\n",
    "plt.figure(figsize=[6,6])\n",
    "for i in range(4):\n",
    "    plt.subplot(2,2,i+1)\n",
    "    plt.title(\"Label: %i\"%y_train[i])\n",
    "    plt.imshow(X_train[i].reshape([28,28]),cmap='gray');"
   ]
  },
  {
   "cell_type": "code",
   "execution_count": 9,
   "metadata": {},
   "outputs": [],
   "source": [
    "# training data : 60000 samples\n",
    "# reshape and normalize input data\n",
    "X_train = X_train.reshape(X_train.shape[0], 1, 28*28)\n",
    "X_train = X_train.astype('float32')\n",
    "X_train /= 255\n",
    "# transform the output (number from 0 to 9) into a vector\n",
    "# for example: number 2 will become [0, 0, 1, 0, 0, 0, 0, 0, 0, 0]\n",
    "y_train = np_utils.to_categorical(y_train)\n",
    "\n",
    "# same for test data : 10000 samples\n",
    "X_test = X_test.reshape(X_test.shape[0], 1, 28*28)\n",
    "X_test = X_test.astype('float32')\n",
    "X_test /= 255\n",
    "y_test = np_utils.to_categorical(y_test)"
   ]
  },
  {
   "cell_type": "markdown",
   "metadata": {},
   "source": [
    "---\n",
    "Activation : Sigmoid Function\n",
    "---"
   ]
  },
  {
   "cell_type": "code",
   "execution_count": 10,
   "metadata": {},
   "outputs": [
    {
     "ename": "NameError",
     "evalue": "name 'sigmoid' is not defined",
     "output_type": "error",
     "traceback": [
      "\u001b[1;31m---------------------------------------------------------------------------\u001b[0m",
      "\u001b[1;31mNameError\u001b[0m                                 Traceback (most recent call last)",
      "\u001b[1;32m<ipython-input-10-b9bc1d3e6a1e>\u001b[0m in \u001b[0;36m<module>\u001b[1;34m\u001b[0m\n\u001b[0;32m     13\u001b[0m \u001b[1;31m# prepare the plot, associate the color r(ed) or b(lue) and the label\u001b[0m\u001b[1;33m\u001b[0m\u001b[1;33m\u001b[0m\u001b[1;33m\u001b[0m\u001b[0m\n\u001b[0;32m     14\u001b[0m \u001b[0mplt\u001b[0m\u001b[1;33m.\u001b[0m\u001b[0mplot\u001b[0m\u001b[1;33m(\u001b[0m\u001b[0mvalues\u001b[0m\u001b[1;33m,\u001b[0m \u001b[0msigmoidFunction\u001b[0m\u001b[1;33m(\u001b[0m\u001b[0mvalues\u001b[0m\u001b[1;33m)\u001b[0m\u001b[1;33m,\u001b[0m \u001b[1;34m'r'\u001b[0m\u001b[1;33m,\u001b[0m \u001b[0mlabel\u001b[0m\u001b[1;33m=\u001b[0m\u001b[1;34m\"Sigmoid Function\"\u001b[0m\u001b[1;33m)\u001b[0m\u001b[1;33m\u001b[0m\u001b[1;33m\u001b[0m\u001b[0m\n\u001b[1;32m---> 15\u001b[1;33m \u001b[0mplt\u001b[0m\u001b[1;33m.\u001b[0m\u001b[0mplot\u001b[0m\u001b[1;33m(\u001b[0m\u001b[0mvalues\u001b[0m\u001b[1;33m,\u001b[0m \u001b[0msigmoidFunction_derivative\u001b[0m\u001b[1;33m(\u001b[0m\u001b[0mvalues\u001b[0m\u001b[1;33m)\u001b[0m\u001b[1;33m,\u001b[0m \u001b[1;34m'b'\u001b[0m\u001b[1;33m,\u001b[0m\u001b[0mlabel\u001b[0m\u001b[1;33m=\u001b[0m\u001b[1;34m\"Sigmoid Function Derivative\"\u001b[0m\u001b[1;33m)\u001b[0m\u001b[1;33m\u001b[0m\u001b[1;33m\u001b[0m\u001b[0m\n\u001b[0m\u001b[0;32m     16\u001b[0m \u001b[1;33m\u001b[0m\u001b[0m\n\u001b[0;32m     17\u001b[0m \u001b[1;31m# Draw the grid line in background.\u001b[0m\u001b[1;33m\u001b[0m\u001b[1;33m\u001b[0m\u001b[1;33m\u001b[0m\u001b[0m\n",
      "\u001b[1;32m<ipython-input-10-b9bc1d3e6a1e>\u001b[0m in \u001b[0;36msigmoidFunction_derivative\u001b[1;34m(x)\u001b[0m\n\u001b[0;32m      4\u001b[0m \u001b[1;33m\u001b[0m\u001b[0m\n\u001b[0;32m      5\u001b[0m \u001b[1;32mdef\u001b[0m \u001b[0msigmoidFunction_derivative\u001b[0m\u001b[1;33m(\u001b[0m\u001b[0mx\u001b[0m\u001b[1;33m)\u001b[0m\u001b[1;33m:\u001b[0m\u001b[1;33m\u001b[0m\u001b[1;33m\u001b[0m\u001b[0m\n\u001b[1;32m----> 6\u001b[1;33m     \u001b[0ms\u001b[0m \u001b[1;33m=\u001b[0m \u001b[0msigmoid\u001b[0m\u001b[1;33m(\u001b[0m\u001b[0mx\u001b[0m\u001b[1;33m)\u001b[0m\u001b[1;33m\u001b[0m\u001b[1;33m\u001b[0m\u001b[0m\n\u001b[0m\u001b[0;32m      7\u001b[0m     \u001b[0mds\u001b[0m \u001b[1;33m=\u001b[0m \u001b[0ms\u001b[0m\u001b[1;33m*\u001b[0m\u001b[1;33m(\u001b[0m\u001b[1;36m1\u001b[0m\u001b[1;33m-\u001b[0m\u001b[0ms\u001b[0m\u001b[1;33m)\u001b[0m\u001b[1;33m\u001b[0m\u001b[1;33m\u001b[0m\u001b[0m\n\u001b[0;32m      8\u001b[0m     \u001b[1;32mreturn\u001b[0m \u001b[0mds\u001b[0m\u001b[1;33m\u001b[0m\u001b[1;33m\u001b[0m\u001b[0m\n",
      "\u001b[1;31mNameError\u001b[0m: name 'sigmoid' is not defined"
     ]
    },
    {
     "data": {
      "image/png": "[encoded data removed]",
      "text/plain": [
       "<Figure size 432x288 with 1 Axes>"
      ]
     },
     "metadata": {
      "needs_background": "light"
     },
     "output_type": "display_data"
    }
   ],
   "source": [
    "def sigmoidFunction(x):\n",
    "    s = 1/(1+np.exp(-x))   \n",
    "    return s\n",
    "\n",
    "def sigmoidFunction_derivative(x):\n",
    "    s = sigmoidFunction(x)\n",
    "    ds = s*(1-s)\n",
    "    return ds\n",
    "\n",
    "# linespace generate an array from start and stop value, 100 elements\n",
    "values = np.linspace(-10,10,100)\n",
    "\n",
    "# prepare the plot, associate the color r(ed) or b(lue) and the label \n",
    "plt.plot(values, sigmoidFunction(values), 'r', label=\"Sigmoid Function\")\n",
    "plt.plot(values, sigmoidFunction_derivative(values), 'b',label=\"Sigmoid Function Derivative\")\n",
    "\n",
    "# Draw the grid line in background.\n",
    "plt.grid()\n",
    "\n",
    "# plt.plot(x)\n",
    "plt.xlabel('X Axis')\n",
    "plt.ylabel('Y Axis')\n",
    "\n",
    "# create the graph\n",
    "plt.show()"
   ]
  },
  {
   "cell_type": "markdown",
   "metadata": {},
   "source": [
    "---\n",
    "***Learning Curves***\n"
   ]
  },
  {
   "cell_type": "code",
   "execution_count": null,
   "metadata": {},
   "outputs": [],
   "source": [
    "#def run_net(Layer1, Layer2, epochs):\n",
    "epochs=25\n",
    "#Network (3 weigthed layers)\n",
    "net = neuralNetwork()\n",
    "net.add_layer(Dense(28*28, 300))  # input_layer : 784 nodes\n",
    "net.add_layer(ActivateLayer(sigmoidFunction, sigmoidFunction_derivative)) # Hidden Layer 1 : 300 nodes\n",
    "net.add_layer(Dense(300, 100)) # Hidden Layer 2 : 100 nodes\n",
    "net.add_layer(ActivateLayer(sigmoidFunction, sigmoidFunction_derivative))\n",
    "net.add_layer(Dense(100, 10))\n",
    "net.add_layer(ActivateLayer(sigmoidFunction, sigmoidFunction_derivative))\n",
    "net.use_lossfunc(mse_loss, mse_loss_derivative)\n",
    "#network.accuracy(X_train[0:1000], y_train[0:1000],X_test[0:1000],y_test[0:1000])\n",
    "#predict_digit = run_net(300, 100, 25)\n",
    "\n",
    "net_mom=neuralNetwork_mom()\n",
    "net_mom.add_layer(Dense(28*28, 300))  # input_layer : 784 nodes\n",
    "net_mom.add_layer(ActivateLayer(sigmoidFunction, sigmoidFunction_derivative)) # Hidden Layer 1 : 300 nodes\n",
    "net_mom.add_layer(Dense(300, 100)) # Hidden Layer 2 : 100 nodes\n",
    "net_mom.add_layer(ActivateLayer(sigmoidFunction, sigmoidFunction_derivative))\n",
    "net_mom.add_layer(Dense(100, 10))\n",
    "net_mom.add_layer(ActivateLayer(sigmoidFunction, sigmoidFunction_derivative))\n",
    "net_mom.use_lossfunc(mse_loss, mse_loss_derivative)"
   ]
  },
  {
   "cell_type": "markdown",
   "metadata": {},
   "source": [
    "*** Error on training ***"
   ]
  },
  {
   "cell_type": "code",
   "execution_count": null,
   "metadata": {},
   "outputs": [],
   "source": [
    "errorList = []\n",
    "errorList_mom=[]\n",
    "errorList.append(net.train_network(X_train[0:1000], y_train[0:1000], epochs, learningRate=0.1))\n",
    "errorList_mom.append(net_mom.train_network_mom(X_train[0:1000], y_train[0:1000], epochs, learningRate=0.1))\n",
    "\n",
    "fig, ax = plt.subplots()\n",
    "ax.plot(errorList[0], '-r', label='Sigmoid')\n",
    "ax.plot(errorList_mom[0], '-g', label='Sigmoid w/ momentum')\n",
    "plt.xlabel('Number of iterations')\n",
    "plt.ylabel('Mean Squarred Error')\n",
    "plt.show()\n"
   ]
  },
  {
   "cell_type": "markdown",
   "metadata": {},
   "source": [
    "***Error on testing***"
   ]
  },
  {
   "cell_type": "code",
   "execution_count": null,
   "metadata": {},
   "outputs": [],
   "source": [
    "test_errorList = []\n",
    "test_errorList_mom=[]\n",
    "test_errorList.append(net.train_network(X_test[0:1000], y_test[0:1000], epochs, learningRate=0.1))\n",
    "test_errorList_mom.append(net_mom.train_network_mom(X_test[0:1000], y_test[0:1000], epochs, learningRate=0.1))\n",
    "\n",
    "fig, ax = plt.subplots()\n",
    "ax.plot(test_errorList[0], '-r', label='Sigmoid')\n",
    "ax.plot(test_errorList_mom[0], '-g', label='Sigmoid w/ momentum')\n",
    "plt.xlabel('Number of iterations')\n",
    "plt.ylabel('Mean Squarred Error')\n",
    "plt.show()\n"
   ]
  },
  {
   "cell_type": "markdown",
   "metadata": {},
   "source": [
    "---\n",
    "Activation Function : ReLU\n",
    "---"
   ]
  },
  {
   "cell_type": "code",
   "execution_count": null,
   "metadata": {},
   "outputs": [],
   "source": [
    "def ReLU(x):\n",
    "    return x * (x > 0)\n",
    "\n",
    "def dReLU(x):\n",
    "    return 1. * (x > 0)\n",
    "\n",
    "# linespace generate an array from start and stop value, 100 elements\n",
    "values = np.linspace(-10,10,100)\n",
    "\n",
    "# prepare the plot, associate the color r(ed) or b(lue) and the label \n",
    "plt.plot(values, ReLU(values), 'r', label=\" ReLU Function\")\n",
    "plt.plot(values, dReLU(values), 'b',label=\"ReLU Function Derivative\")\n",
    "# Draw the grid line in background.\n",
    "plt.grid()\n",
    "# plt.plot(x)\n",
    "plt.xlabel('X Axis')\n",
    "plt.ylabel('Y Axis')\n",
    "# create the graph\n",
    "plt.show()"
   ]
  },
  {
   "cell_type": "code",
   "execution_count": null,
   "metadata": {},
   "outputs": [],
   "source": [
    "# Network (3 weigthed layers)\n",
    "net_relu= neuralNetwork()\n",
    "net_relu.add_layer(Dense(28*28, 300))\n",
    "net_relu.add_layer(ActivateLayer(ReLU, dReLU))\n",
    "net_relu.add_layer(Dense(300, 100))\n",
    "net_relu.add_layer(ActivateLayer(ReLU, dReLU))\n",
    "net_relu.add_layer(Dense(100, 10))\n",
    "net_relu.add_layer(ActivateLayer(sigmoidFunction, sigmoidFunction_derivative))\n",
    "net_relu.use_lossfunc(mse_loss, mse_loss_derivative)\n",
    "#network.accuracy(X_train[0:1000], y_train[0:1000],X_test[0:1000],y_test[0:1000])\n",
    "net_relu_mom= neuralNetwork_mom()\n",
    "net_relu_mom.add_layer(Dense(28*28, 300))\n",
    "net_relu_mom.add_layer(ActivateLayer(ReLU, dReLU))\n",
    "net_relu_mom.add_layer(Dense(300, 100))\n",
    "net_relu_mom.add_layer(ActivateLayer(ReLU, dReLU))\n",
    "net_relu_mom.add_layer(Dense(100, 10))\n",
    "net_relu_mom.add_layer(ActivateLayer(sigmoidFunction, sigmoidFunction_derivative))\n",
    "net_relu_mom.use_lossfunc(mse_loss, mse_loss_derivative)\n",
    "\n",
    "\n",
    "    \n",
    "# input_layer : 784 nodes\n",
    "# Hidden Layer 1 : 300 nodes\n",
    "# Hidden Layer 2 : 100 nodes\n"
   ]
  },
  {
   "cell_type": "markdown",
   "metadata": {},
   "source": [
    "***Error on training***"
   ]
  },
  {
   "cell_type": "code",
   "execution_count": null,
   "metadata": {},
   "outputs": [],
   "source": [
    "train_errorList_relu=[]\n",
    "train_errorList_relu_mom=[]\n",
    "train_errorList_relu.append(net_relu.train_network(X_train[0:100], y_train[0:100], epochs, learningRate=0.1))\n",
    "train_errorList_relu_mom.append(net_relu_mom.train_network_mom(X_train[0:100], y_train[0:100], epochs, learningRate=0.1))\n",
    "\n",
    "fig, ax = plt.subplots()\n",
    "ax.plot(train_errorList_relu[0], '-r', label='ReLU')\n",
    "ax.plot(train_errorList_relu_mom[0], '-g', label='ReLU w/ momentum')\n",
    "plt.xlabel('Number of iterations')\n",
    "plt.ylabel('Mean Squarred Error')\n",
    "plt.show()"
   ]
  },
  {
   "cell_type": "markdown",
   "metadata": {},
   "source": [
    "**Error on testing***"
   ]
  },
  {
   "cell_type": "code",
   "execution_count": null,
   "metadata": {},
   "outputs": [],
   "source": [
    "test_errorList_relu=[]\n",
    "test_errorList_relu_mom=[]\n",
    "test_errorList_relu.append(net_relu.train_network(X_train[0:100], y_train[0:100], epochs, learningRate=0.1))\n",
    "test_errorList_relu_mom.append(net_relu_mom.train_network_mom(X_train[0:100], y_train[0:100], epochs, learningRate=0.1))\n",
    "\n",
    "fig, ax = plt.subplots()\n",
    "ax.plot(test_errorList_relu[0], '-r', label='ReLU')\n",
    "ax.plot(test_errorList_relu_mom[0], '-g', label='ReLU w/ momentum')\n",
    "plt.xlabel('Number of iterations')\n",
    "plt.ylabel('Mean Squarred Error')\n",
    "plt.show()"
   ]
  },
  {
   "cell_type": "markdown",
   "metadata": {},
   "source": [
    "---\n",
    "\n",
    "C. Stochastic Gradient Descent\n",
    "---"
   ]
  },
  {
   "cell_type": "code",
   "execution_count": null,
   "metadata": {},
   "outputs": [],
   "source": [
    "def run_net_sgd(Layer1, Layer2, epochs):\n",
    "    errorList=[]\n",
    "    errorList_mom=[]\n",
    "    # Network (3 weigthed layers)\n",
    "    network = neuralNetwork()\n",
    "    network.add_layer(Dense(28*28, Layer1))\n",
    "    network.add_layer(ActivateLayer(sigmoidFunction, sigmoidFunction_derivative))\n",
    "    network.add_layer(Dense(Layer1, Layer2))\n",
    "    network.add_layer(ActivateLayer(sigmoidFunction, sigmoidFunction_derivative))\n",
    "    network.add_layer(Dense(Layer2, 10))\n",
    "    network.add_layer(ActivateLayer(sigmoidFunction, sigmoidFunction_derivative))\n",
    "\n",
    "    # train on 1000 samples\n",
    "    # training will be slow if we update at each iteration on 60000 samples\n",
    "    # compromise with 250 epochs for the precision & time with L1 of 100 and L2 of 50 neurons\n",
    "    network.use_lossfunc(mse_loss, mse_loss_derivative)\n",
    "    for epoch in range(1):\n",
    "        for i in range(2500):\n",
    "            random_idx=np.random.randint(0,60000)\n",
    "            errorList.append(network.train_network(X_train[random_idx:random_idx+1], y_train[random_idx:random_idx+1],1, learningRate=0.1))\n",
    "            errorList_mom.append(network.train_network_mom(X_train[random_idx:random_idx+1], y_train[random_idx:random_idx+1],1, learningRate=0.1))\n",
    "\n",
    "    fig, ax = plt.subplots()\n",
    "    ax.plot(errorList, '-r', label='SGD ')\n",
    "    ax.plot(errorList_mom, '-g', label='SGD w/momentum')\n",
    "    plt.xlabel('Number of iterations')\n",
    "    plt.ylabel('Mean Squarred Error')\n",
    "    plt.show()\n",
    "# input_layer : 784 nodes\n",
    "# Hidden Layer 1 : 300 nodes\n",
    "# Hidden Layer 2 : 100 nodes"
   ]
  },
  {
   "cell_type": "markdown",
   "metadata": {},
   "source": [
    "***Error on training***"
   ]
  },
  {
   "cell_type": "code",
   "execution_count": null,
   "metadata": {},
   "outputs": [],
   "source": [
    "predict_digit = run_net_sgd(300, 100, 25)"
   ]
  },
  {
   "cell_type": "markdown",
   "metadata": {},
   "source": [
    "---\n",
    "Mini Batch Gradient Descent\n",
    "---"
   ]
  },
  {
   "cell_type": "code",
   "execution_count": null,
   "metadata": {},
   "outputs": [],
   "source": [
    "def run_net_mbgd(Layer1, Layer2, epochs):\n",
    "    errorList=[]\n",
    "    errorList_mom=[]\n",
    "    # Network (3 weigthed layers)\n",
    "    network = neuralNetwork()\n",
    "    network.add_layer(Dense(28*28, Layer1))\n",
    "    network.add_layer(ActivateLayer(sigmoidFunction, sigmoidFunction_derivative))\n",
    "    network.add_layer(Dense(Layer1, Layer2))\n",
    "    network.add_layer(ActivateLayer(sigmoidFunction, sigmoidFunction_derivative))\n",
    "    network.add_layer(Dense(Layer2, 10))\n",
    "    network.add_layer(ActivateLayer(sigmoidFunction, sigmoidFunction_derivative))\n",
    "\n",
    "    # train on 1000 samples\n",
    "    # training will be slow if we update at each iteration on 60000 samples\n",
    "    # compromise with 250 epochs for the precision & time with L1 of 100 and L2 of 50 neurons\n",
    "    network.use_lossfunc(mse_loss, mse_loss_derivative)\n",
    "    X_train_mbgd = X_train\n",
    "    y_train_mbgd = y_train\n",
    "    epochs=1\n",
    "    mini_batch_size=300\n",
    "    no_batches=2\n",
    "    samples=int(mini_batch_size/no_batches)\n",
    "    for epoch in range(epochs):\n",
    "        for i in range(1000):\n",
    "            shuffle = np.random.permutation(60000)\n",
    "            shuffle=shuffle[:samples]\n",
    "            X_train_mbgd = X_train[shuffle]\n",
    "            y_train_mbgd=y_train[shuffle]\n",
    "            errorList.append(network.train_network(X_train_mbgd, y_train_mbgd,1, learningRate=0.1))\n",
    "            errorList_mom.append(network.train_network_mom(X_train_mbgd, y_train_mbgd,1, learningRate=0.1))\n",
    "    fig, ax = plt.subplots()\n",
    "    ax.plot(errorList, '-r', label='MBGD ')\n",
    "    ax.plot(errorList_mom, '-g', label='MBGD w/momentum')\n",
    "    plt.xlabel('Number of iterations')\n",
    "    plt.ylabel('Mean Squarred Error')\n",
    "    plt.show()\n",
    "# input_layer : 784 nodes\n",
    "# Hidden Layer 1 : 300 nodes\n",
    "# Hidden Layer 2 : 100 nodes\n"
   ]
  },
  {
   "cell_type": "markdown",
   "metadata": {},
   "source": [
    "**Error on training**"
   ]
  },
  {
   "cell_type": "code",
   "execution_count": null,
   "metadata": {},
   "outputs": [],
   "source": [
    "predict_digit = run_net_mbgd(300, 100, 25)\n"
   ]
  },
  {
   "cell_type": "code",
   "execution_count": null,
   "metadata": {},
   "outputs": [],
   "source": [
    "def find_conf_matrix_values(y_true,y_pred):\n",
    "    # calculate TP, FN, FP, TN\n",
    "    TP = find_TP(y_true,y_pred)\n",
    "    FN = find_FN(y_true,y_pred)\n",
    "    FP = find_FP(y_true,y_pred)\n",
    "    TN = find_TN(y_true,y_pred)\n",
    "    return TP,FN,FP,TN"
   ]
  },
  {
   "cell_type": "code",
   "execution_count": null,
   "metadata": {},
   "outputs": [],
   "source": [
    "def my_accuracy_score(y_true, y_pred):\n",
    "    # calculates the fraction of samples predicted correctly\n",
    "    TP,FN,FP,TN = find_conf_matrix_values(y_true,y_pred)\n",
    "    accuracy=(TP+TN)/(TP+TN+FP+TN)\n",
    "    return accuracy"
   ]
  },
  {
   "cell_type": "code",
   "execution_count": null,
   "metadata": {},
   "outputs": [],
   "source": [
    "#acc=[]\n",
    "#acc.append(my_accuracy_score(y_test[0:1000], predict_digit[0:1000]))\n",
    "#plt.plot(acc)"
   ]
  },
  {
   "cell_type": "code",
   "execution_count": null,
   "metadata": {},
   "outputs": [],
   "source": []
  },
  {
   "cell_type": "code",
   "execution_count": null,
   "metadata": {},
   "outputs": [],
   "source": []
  }
 ],
 "metadata": {
  "kernelspec": {
   "display_name": "Python 3",
   "language": "python",
   "name": "python3"
  },
  "language_info": {
   "codemirror_mode": {
    "name": "ipython",
    "version": 3
   },
   "file_extension": ".py",
   "mimetype": "text/x-python",
   "name": "python",
   "nbconvert_exporter": "python",
   "pygments_lexer": "ipython3",
   "version": "3.7.2"
  }
 },
 "nbformat": 4,
 "nbformat_minor": 2
}
