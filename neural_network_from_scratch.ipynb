{
 "cells": [
  {
   "cell_type": "markdown",
   "metadata": {},
   "source": [
    "# <center> Neural Network : Assignment 1 </center>\n",
    "**Build a neural network with 4 layers (3 weight layers) using Python Programming where Mean Squared Error and sigmoid activation function should be employed as its loss function and activation function, respectively. Also, momentum term should be included in this basic Neural Network structure and Batch Gradient Descent should be used for training.  The MNIST data set is available at**   **http://yann.lecun.com/exdb/mnist/**"
   ]
  },
  {
   "cell_type": "markdown",
   "metadata": {},
   "source": [
    "### Librairies\n",
    "This notebook uses Python 3 environment, which comes with many helpful analytics libraries installed.\n",
    "\n",
    "In this project, here are the packages we will need\n"
   ]
  },
  {
   "cell_type": "code",
   "execution_count": 88,
   "metadata": {},
   "outputs": [],
   "source": [
    "# linear algebra\n",
    "import numpy as np\n",
    "from random import randint\n",
    "\n",
    "\n",
    "# data processing, CSV file I/O (e.g. pd.read_csv)\n",
    "import pandas as pd\n",
    "\n",
    "# scipy.special for sigmoid function\n",
    "import scipy.special\n",
    "\n",
    "# visualizations\n",
    "import matplotlib.pyplot\n",
    "from tqdm import tqdm\n",
    "\n",
    "%matplotlib inline\n",
    "\n",
    "# Data import\n",
    "\n",
    "from keras.datasets import mnist\n",
    "from keras.utils import np_utils\n",
    "import time\n",
    "\n",
    "np.random.seed(42)\n"
   ]
  },
  {
   "cell_type": "markdown",
   "metadata": {},
   "source": [
    "# Construction Phase\n",
    "In this project, we want to build a neural network with 4 layers (3 weight layers)\n",
    "-     Input layer : initial data for the neural network.\n",
    "-     2 Hidden Layers : intermediate layer between input and output layer and place where all the computation is done.\n",
    "-     Output layer — produce the result for given inputs.\n",
    "\n",
    "<img src=\"files/neural_network.png\" >\n",
    "\n"
   ]
  },
  {
   "cell_type": "markdown",
   "metadata": {},
   "source": [
    "<img src=\"files/back_propagation.png\" >\n",
    "<p> <b> Backpropagation algorithmn </b> : The output values are compared with the correct answer to compute the value of some predefined error-function. By various techniques, the error is then fed back through the network. Using this information, the algorithm adjusts the weights of each connection in order to reduce the value of the error function by some small amount. After repeating this process for a sufficiently large number of training cycles, the network will usually converge to some state where the error of the calculations is small. In this case, one would say that the network has learned a certain target function. To adjust weights properly, one applies a general method for non-linear optimization that is called gradient descent. For this, the network calculates the derivative of the error function with respect to the network weights, and changes the weights such that the error decreases (thus going downhill on the surface of the error function). For this reason, back-propagation can only be applied on networks with differentiable activation functions. </p>"
   ]
  },
  {
   "cell_type": "code",
   "execution_count": 89,
   "metadata": {},
   "outputs": [],
   "source": [
    "# Base Layer class\n",
    "class Layer:\n",
    "    def __init__(self):\n",
    "        self.input = None\n",
    "        self.output = None\n",
    "\n",
    "    # Input X is computed into the output Y for every layers\n",
    "    def forwardProp(self, input):\n",
    "        raise NotImplementedError\n",
    "\n",
    "    # computes dE/dX for a given dE/dY (and update parameters if any)\n",
    "    def backwardProp(self, output_error, learning_rate):\n",
    "        raise NotImplementedError"
   ]
  },
  {
   "cell_type": "markdown",
   "metadata": {},
   "source": [
    "Each node is connected with each node from the next layer and each connection (black arrow) has particular weight. Weight can be seen as impact that that node has on the node from the next layer. So if we take a look on one node it would look like this <img src=\"files/tempsnip.png\" >"
   ]
  },
  {
   "cell_type": "markdown",
   "metadata": {},
   "source": [
    "---\n",
    "A node, also called a neuron or Perceptron, is a computational unit that has one or more weighted input connections, a activation function that combines the inputs in some way, and an output connection.\n",
    "\n",
    "Nodes are then organized into layers to comprise a network."
   ]
  },
  {
   "cell_type": "markdown",
   "metadata": {},
   "source": [
    "---\n",
    "### Activation function\n",
    "\n",
    "Activation function decides, whether a neuron should be activated or not by calculating weighted sum and further adding bias with it. The purpose of the activation function is to introduce non-linearity into the output of a neuron.\n",
    "\n",
    "In this project, we use the Sigmoid function as activation function. It is one of the most widely used activation function today. It equation is given with the formula below.\n",
    "Because of this properties ( it is a non linear function ), it allows the nodes to take any values between 0 and 1. In the end, in case of multiple output classes, this would result with different probabilities of “activation” for each output class. And we will choose the one with the highest “activation”(probability) value."
   ]
  },
  {
   "cell_type": "code",
   "execution_count": 90,
   "metadata": {},
   "outputs": [],
   "source": [
    "# activation function and its derivative\n",
    "def sigmoidFunction(x):\n",
    "    return (1/(1+np.exp(-x)))\n",
    "\n",
    "def sigmoidFunction_derivative(x):\n",
    "    return (1-(1/(np.exp(x)+1)))*(1/(1+np.exp(x)))"
   ]
  },
  {
   "cell_type": "markdown",
   "metadata": {},
   "source": [
    "---\n",
    "### Loss Function"
   ]
  },
  {
   "cell_type": "code",
   "execution_count": 91,
   "metadata": {},
   "outputs": [],
   "source": [
    "# loss function and its derivative\n",
    "def mse_loss(y_true, y_pred):\n",
    "    return np.mean(np.power(y_true-y_pred, 2));\n",
    "\n",
    "def mse_loss_derivative(y_true, y_pred):\n",
    "    return 2*(y_pred-y_true)/y_true.size;"
   ]
  },
  {
   "cell_type": "markdown",
   "metadata": {},
   "source": [
    "---\n",
    "Creation of the Full Connected Layer, which inherit from the Layer class\n",
    "\n",
    "---\n",
    "We initialize the class with a bias value, that allows to shift the activation function to the left or right and it helps getting better fit for the data (better prediction function as output.\n",
    "\n",
    "\n",
    "We also initialize the weights with random values ; "
   ]
  },
  {
   "cell_type": "code",
   "execution_count": 92,
   "metadata": {},
   "outputs": [],
   "source": [
    "# inherit from base class Layer\n",
    "class Dense(Layer):\n",
    "    # input_size = number of input neurons\n",
    "    # output_size = number of output neurons\n",
    "    def __init__(self, inputSize, outputSize):\n",
    "        self.weights = np.random.rand(inputSize, outputSize) - 0.5\n",
    "        self.bias = np.random.rand(1, outputSize) - 0.5\n",
    "\n",
    "    # returns output for a given input\n",
    "    def forwardProp(self, inputData):\n",
    "        self.input = inputData\n",
    "        self.output = np.dot(self.input, self.weights) + self.bias\n",
    "        return self.output\n",
    "\n",
    "    # computes dE/dW, dE/dB for a given outputError=dE/dY. Returns inputError=dE/dX.\n",
    "    def backwardProp(self, outputError, learningRate):\n",
    "        inputError = np.dot(outputError, self.weights.T)\n",
    "        weightsError = np.dot(self.input.T, outputError)\n",
    "        # dBias = outputError\n",
    "\n",
    "        # update parameters\n",
    "        self.weights -= learningRate * weightsError\n",
    "        self.bias -= learningRate * outputError\n",
    "        return inputError"
   ]
  },
  {
   "cell_type": "markdown",
   "metadata": {},
   "source": [
    "---\n",
    "- Creation of the Activate Class, which will allow to activate each note of the Layer."
   ]
  },
  {
   "cell_type": "code",
   "execution_count": 93,
   "metadata": {},
   "outputs": [],
   "source": [
    "# inherit from base class Layer\n",
    "class ActivateLayer(Layer):\n",
    "    def __init__(self, activation, activation_prime):\n",
    "        self.activation = activation\n",
    "        self.activation_prime = activation_prime\n",
    "\n",
    "    # returns the activated input\n",
    "    def forwardProp(self, inputData):\n",
    "        self.input = inputData\n",
    "        self.output = self.activation(self.input)\n",
    "        return self.output\n",
    "\n",
    "    # Returns inputError=dE/dX for a given outputError=dE/dY.\n",
    "    # learning_rate is not used because there is no \"learnable\" parameters.\n",
    "    def backwardProp(self, outputError, learningRate):\n",
    "        return self.activation_prime(self.input) * outputError"
   ]
  },
  {
   "cell_type": "markdown",
   "metadata": {},
   "source": [
    "---\n",
    "# Execution Phase"
   ]
  },
  {
   "cell_type": "code",
   "execution_count": 94,
   "metadata": {},
   "outputs": [],
   "source": [
    "class neuralNetwork:\n",
    "    def __init__(self):\n",
    "        self.layers = []\n",
    "        self.mse_loss= None\n",
    "        self.mse_loss_derivative = None\n",
    "\n",
    "    # add layer to network\n",
    "    def add_layer(self, layer):\n",
    "        self.layers.append(layer)\n",
    "\n",
    "    # set loss to use\n",
    "    def use_lossfunc(self, mse_loss, mse_loss_derivative):\n",
    "        self.mse_loss = mse_loss\n",
    "        self.mse_loss_derivative = mse_loss_derivative\n",
    "\n",
    "    # predict output for given input\n",
    "    def predict_output(self, inputData):\n",
    "        # sample dimension first\n",
    "        samples = len(inputData)\n",
    "        result = []\n",
    "\n",
    "        # run network over all samples\n",
    "        for i in range(samples):\n",
    "            # forward propagation\n",
    "            output = inputData[i]\n",
    "            for layer in self.layers:\n",
    "                output = layer.forwardProp(output)\n",
    "            result.append(output)\n",
    "\n",
    "        return result\n",
    "\n",
    "    # train the network\n",
    "    def train_network(self, x_train, y_train, epochs, learningRate):\n",
    "        # sample dimension first\n",
    "        samples = len(x_train)\n",
    "        errorList = []\n",
    "        for i in tqdm(range(epochs)):\n",
    "            err = 0\n",
    "            for j in range(samples):\n",
    "                # forward propagation\n",
    "                output = x_train[j]\n",
    "                for layer in self.layers:\n",
    "                    output = layer.forwardProp(output)\n",
    "\n",
    "                # compute loss (for display purpose only)\n",
    "                #err += self.loss(y_train[j], output)\n",
    "\n",
    "                # backward propagation\n",
    "                error = self.mse_loss_derivative(y_train[j], output)\n",
    "                for layer in reversed(self.layers):\n",
    "                    error = layer.backwardProp(error, learningRate)\n",
    "                    \n",
    "            # calculate average error on all samples\n",
    "            err /= samples\n",
    "            errorList.append(err)\n",
    "            \n",
    "        # show error's graph\n",
    "        #plt.plot(errorList)\n",
    "        #plt.ylabel('Error')\n",
    "        #print(\"Last error : %f\" %(errorList[-1]))\n",
    "        return errorList[-1]\n",
    "    \n",
    "    def plot_learning_curves(self, X_train, X_test, y_train, y_test, size, iterations, learning_rate):\n",
    "        train_errors, test_errors = [], []\n",
    "\n",
    "        self.train_network(X_train[:size], y_train[:size], epochs=iterations, learningRate=learning_rate)\n",
    "\n",
    "        labels_train_predict = self.predict_output(X_train[:size])\n",
    "        labels_test_predict = self.predict_output(X_test[:size])\n",
    "\n",
    "        for m in range(1, size):\n",
    "            train_errors.append(mse_loss(y_train[:m], labels_train_predict))\n",
    "            print(train_errors)\n",
    "            test_errors.append(mse_loss(y_test[:m], labels_test_predict))\n",
    "            print(test_errors)\n",
    "\n",
    "        #plt.plot(np.sqrt(train_errors), \"r-+\", linewidth=2, label=\"train\")\n",
    "        #plt.plot(np.sqrt(test_errors), \"b-\", linewidth=3, label=\"test\")\n",
    "        #plt.legend(loc=\"upper right\", fontsize=14)\n",
    "        #plt.xlabel(\"Training set size\", fontsize=14)\n",
    "        plt.plot(train_errors,label='train accuracy')\n",
    "        plt.plot(test_errors,label='val accuracy')\n",
    "        plt.legend(loc='best')\n",
    "        plt.grid()\n",
    "        plt.show()\n",
    "        \n",
    "        "
   ]
  },
  {
   "cell_type": "markdown",
   "metadata": {},
   "source": [
    "### MNIST Data\n",
    "---\n",
    "- The MNIST-Database is a large dataset of 70.000 handwritten digits that are mainly used for training several image processing systems, especially in the deeplearning field.\n",
    "- The dataset consists digits from 0 to 9 in a 28x28 pixel based format. The values are stored in a comma separted file in which each row has 785 values (28x28 = 784) where every row represents a different number that is initially displayed in the first value of the row (784 + 1)."
   ]
  },
  {
   "cell_type": "code",
   "execution_count": 95,
   "metadata": {},
   "outputs": [
    {
     "data": {
      "image/png": "[encoded data removed]",
      "text/plain": [
       "<Figure size 432x432 with 4 Axes>"
      ]
     },
     "metadata": {
      "needs_background": "light"
     },
     "output_type": "display_data"
    }
   ],
   "source": [
    "import keras\n",
    "import matplotlib.pyplot as plt\n",
    "%matplotlib inline\n",
    "def load_dataset(flatten=False):\n",
    "    (X_train, y_train), (X_test, y_test) = keras.datasets.mnist.load_data()    # normalize x\n",
    "    X_train = X_train.astype(float) / 255.\n",
    "    X_test = X_test.astype(float) / 255.    # we reserve the last 10000 training examples for validation\n",
    "    X_train, X_val = X_train[:-10000], X_train[-10000:]\n",
    "    y_train, y_val = y_train[:-10000], y_train[-10000:]\n",
    "    if flatten:\n",
    "        X_train = X_train.reshape([X_train.shape[0], -1])\n",
    "        X_val = X_val.reshape([X_val.shape[0], -1])\n",
    "        X_test = X_test.reshape([X_test.shape[0], -1])\n",
    "        return X_train, y_train, X_val, y_val, X_test, y_test\n",
    "X_train, y_train, X_val, y_val, X_test, y_test = load_dataset(flatten=True)## Let's look at some example\n",
    "plt.figure(figsize=[6,6])\n",
    "for i in range(4):\n",
    "    plt.subplot(2,2,i+1)\n",
    "    plt.title(\"Label: %i\"%y_train[i])\n",
    "    plt.imshow(X_train[i].reshape([28,28]),cmap='gray');"
   ]
  },
  {
   "cell_type": "markdown",
   "metadata": {},
   "source": [
    "- The MNIST-Dataset consists 28x28 pixel based information of digits, that are rowbased stored in a comma separated file (in this example). Therefore we need to split the values and bring them into shapes of 28x28-array to visualize and work with the \"pictures\".\n",
    "\n",
    "- Every field of the 28x28-array will represent a number value that is correspondent to a grey scaled color between 0 and 255.\n"
   ]
  },
  {
   "cell_type": "code",
   "execution_count": 96,
   "metadata": {},
   "outputs": [],
   "source": [
    "# training data : 60000 samples\n",
    "# reshape and normalize input data\n",
    "X_train = X_train.reshape(X_train.shape[0], 1, 28*28)\n",
    "X_train = X_train.astype('float32')\n",
    "X_train /= 255\n",
    "# transform the output (number from 0 to 9) into a vector\n",
    "# for example: number 2 will become [0, 0, 1, 0, 0, 0, 0, 0, 0, 0]\n",
    "y_train = np_utils.to_categorical(y_train)\n",
    "\n",
    "# same for test data : 10000 samples\n",
    "X_test = X_test.reshape(X_test.shape[0], 1, 28*28)\n",
    "X_test = X_test.astype('float32')\n",
    "X_test /= 255\n",
    "y_test = np_utils.to_categorical(y_test)\n"
   ]
  },
  {
   "cell_type": "markdown",
   "metadata": {},
   "source": [
    "### Learning Curves\n",
    "---\n",
    "Plot of the learning curve\n",
    "\n",
    "---\n",
    "\n",
    "\n",
    "We’ll define network as a list of layers, each applied on top of previous one. In this setting, computing predictions and training becomes trivial"
   ]
  },
  {
   "cell_type": "code",
   "execution_count": 159,
   "metadata": {},
   "outputs": [
    {
     "name": "stderr",
     "output_type": "stream",
     "text": [
      "100%|██████████████████████████████████████████████████████████████████████████████████| 25/25 [00:02<00:00,  9.01it/s]\n"
     ]
    },
    {
     "name": "stdout",
     "output_type": "stream",
     "text": [
      "[0.023732899399072114]\n",
      "[0.1939930029519424]\n",
      "[0.023732899399072114, 0.10650997507211737]\n",
      "[0.1939930029519424, 0.19290871082134012]\n",
      "[0.023732899399072114, 0.10650997507211737, 0.13278388862555016]\n",
      "[0.1939930029519424, 0.19290871082134012, 0.1834398091752571]\n",
      "[0.023732899399072114, 0.10650997507211737, 0.13278388862555016, 0.1407062070608166]\n",
      "[0.1939930029519424, 0.19290871082134012, 0.1834398091752571, 0.1849073477516186]\n",
      "[0.023732899399072114, 0.10650997507211737, 0.13278388862555016, 0.1407062070608166, 0.1509097235668623]\n",
      "[0.1939930029519424, 0.19290871082134012, 0.1834398091752571, 0.1849073477516186, 0.1849985766444406]\n",
      "[0.023732899399072114, 0.10650997507211737, 0.13278388862555016, 0.1407062070608166, 0.1509097235668623, 0.15772521061052672]\n",
      "[0.1939930029519424, 0.19290871082134012, 0.1834398091752571, 0.1849073477516186, 0.1849985766444406, 0.18158248151754902]\n",
      "[0.023732899399072114, 0.10650997507211737, 0.13278388862555016, 0.1407062070608166, 0.1509097235668623, 0.15772521061052672, 0.15868920371853948]\n",
      "[0.1939930029519424, 0.19290871082134012, 0.1834398091752571, 0.1849073477516186, 0.1849985766444406, 0.18158248151754902, 0.1821226259030033]\n",
      "[0.023732899399072114, 0.10650997507211737, 0.13278388862555016, 0.1407062070608166, 0.1509097235668623, 0.15772521061052672, 0.15868920371853948, 0.1620543637341816]\n",
      "[0.1939930029519424, 0.19290871082134012, 0.1834398091752571, 0.1849073477516186, 0.1849985766444406, 0.18158248151754902, 0.1821226259030033, 0.183325008587097]\n",
      "[0.023732899399072114, 0.10650997507211737, 0.13278388862555016, 0.1407062070608166, 0.1509097235668623, 0.15772521061052672, 0.15868920371853948, 0.1620543637341816, 0.16232311913778544]\n",
      "[0.1939930029519424, 0.19290871082134012, 0.1834398091752571, 0.1849073477516186, 0.1849985766444406, 0.18158248151754902, 0.1821226259030033, 0.183325008587097, 0.16559382338990974]\n",
      "[0.023732899399072114, 0.10650997507211737, 0.13278388862555016, 0.1407062070608166, 0.1509097235668623, 0.15772521061052672, 0.15868920371853948, 0.1620543637341816, 0.16232311913778544, 0.16462397879724847]\n",
      "[0.1939930029519424, 0.19290871082134012, 0.1834398091752571, 0.1849073477516186, 0.1849985766444406, 0.18158248151754902, 0.1821226259030033, 0.183325008587097, 0.16559382338990974, 0.16820860978849408]\n",
      "[0.023732899399072114, 0.10650997507211737, 0.13278388862555016, 0.1407062070608166, 0.1509097235668623, 0.15772521061052672, 0.15868920371853948, 0.1620543637341816, 0.16232311913778544, 0.16462397879724847, 0.16653184289237832]\n",
      "[0.1939930029519424, 0.19290871082134012, 0.1834398091752571, 0.1849073477516186, 0.1849985766444406, 0.18158248151754902, 0.1821226259030033, 0.183325008587097, 0.16559382338990974, 0.16820860978849408, 0.17012691466960397]\n",
      "[0.023732899399072114, 0.10650997507211737, 0.13278388862555016, 0.1407062070608166, 0.1509097235668623, 0.15772521061052672, 0.15868920371853948, 0.1620543637341816, 0.16232311913778544, 0.16462397879724847, 0.16653184289237832, 0.1546319309346028]\n",
      "[0.1939930029519424, 0.19290871082134012, 0.1834398091752571, 0.1849073477516186, 0.1849985766444406, 0.18158248151754902, 0.1821226259030033, 0.183325008587097, 0.16559382338990974, 0.16820860978849408, 0.17012691466960397, 0.17190727091655875]\n",
      "[0.023732899399072114, 0.10650997507211737, 0.13278388862555016, 0.1407062070608166, 0.1509097235668623, 0.15772521061052672, 0.15868920371853948, 0.1620543637341816, 0.16232311913778544, 0.16462397879724847, 0.16653184289237832, 0.1546319309346028, 0.15701489654299314]\n",
      "[0.1939930029519424, 0.19290871082134012, 0.1834398091752571, 0.1849073477516186, 0.1849985766444406, 0.18158248151754902, 0.1821226259030033, 0.183325008587097, 0.16559382338990974, 0.16820860978849408, 0.17012691466960397, 0.17190727091655875, 0.17343299525957367]\n",
      "[0.023732899399072114, 0.10650997507211737, 0.13278388862555016, 0.1407062070608166, 0.1509097235668623, 0.15772521061052672, 0.15868920371853948, 0.1620543637341816, 0.16232311913778544, 0.16462397879724847, 0.16653184289237832, 0.1546319309346028, 0.15701489654299314, 0.15947613455210544]\n",
      "[0.1939930029519424, 0.19290871082134012, 0.1834398091752571, 0.1849073477516186, 0.1849985766444406, 0.18158248151754902, 0.1821226259030033, 0.183325008587097, 0.16559382338990974, 0.16820860978849408, 0.17012691466960397, 0.17190727091655875, 0.17343299525957367, 0.17456706441822578]\n",
      "[0.023732899399072114, 0.10650997507211737, 0.13278388862555016, 0.1407062070608166, 0.1509097235668623, 0.15772521061052672, 0.15868920371853948, 0.1620543637341816, 0.16232311913778544, 0.16462397879724847, 0.16653184289237832, 0.1546319309346028, 0.15701489654299314, 0.15947613455210544, 0.1598092697397395]\n",
      "[0.1939930029519424, 0.19290871082134012, 0.1834398091752571, 0.1849073477516186, 0.1849985766444406, 0.18158248151754902, 0.1821226259030033, 0.183325008587097, 0.16559382338990974, 0.16820860978849408, 0.17012691466960397, 0.17190727091655875, 0.17343299525957367, 0.17456706441822578, 0.17389606051588347]\n",
      "[0.023732899399072114, 0.10650997507211737, 0.13278388862555016, 0.1407062070608166, 0.1509097235668623, 0.15772521061052672, 0.15868920371853948, 0.1620543637341816, 0.16232311913778544, 0.16462397879724847, 0.16653184289237832, 0.1546319309346028, 0.15701489654299314, 0.15947613455210544, 0.1598092697397395, 0.16194272581760533]\n",
      "[0.1939930029519424, 0.19290871082134012, 0.1834398091752571, 0.1849073477516186, 0.1849985766444406, 0.18158248151754902, 0.1821226259030033, 0.183325008587097, 0.16559382338990974, 0.16820860978849408, 0.17012691466960397, 0.17190727091655875, 0.17343299525957367, 0.17456706441822578, 0.17389606051588347, 0.16451157809691647]\n",
      "[0.023732899399072114, 0.10650997507211737, 0.13278388862555016, 0.1407062070608166, 0.1509097235668623, 0.15772521061052672, 0.15868920371853948, 0.1620543637341816, 0.16232311913778544, 0.16462397879724847, 0.16653184289237832, 0.1546319309346028, 0.15701489654299314, 0.15947613455210544, 0.1598092697397395, 0.16194272581760533, 0.16369919170061964]\n",
      "[0.1939930029519424, 0.19290871082134012, 0.1834398091752571, 0.1849073477516186, 0.1849985766444406, 0.18158248151754902, 0.1821226259030033, 0.183325008587097, 0.16559382338990974, 0.16820860978849408, 0.17012691466960397, 0.17190727091655875, 0.17343299525957367, 0.17456706441822578, 0.17389606051588347, 0.16451157809691647, 0.1661133492309657]\n",
      "[0.023732899399072114, 0.10650997507211737, 0.13278388862555016, 0.1407062070608166, 0.1509097235668623, 0.15772521061052672, 0.15868920371853948, 0.1620543637341816, 0.16232311913778544, 0.16462397879724847, 0.16653184289237832, 0.1546319309346028, 0.15701489654299314, 0.15947613455210544, 0.1598092697397395, 0.16194272581760533, 0.16369919170061964, 0.16516335694898626]\n",
      "[0.1939930029519424, 0.19290871082134012, 0.1834398091752571, 0.1849073477516186, 0.1849985766444406, 0.18158248151754902, 0.1821226259030033, 0.183325008587097, 0.16559382338990974, 0.16820860978849408, 0.17012691466960397, 0.17190727091655875, 0.17343299525957367, 0.17456706441822578, 0.17389606051588347, 0.16451157809691647, 0.1661133492309657, 0.16766221888213106]\n",
      "[0.023732899399072114, 0.10650997507211737, 0.13278388862555016, 0.1407062070608166, 0.1509097235668623, 0.15772521061052672, 0.15868920371853948, 0.1620543637341816, 0.16232311913778544, 0.16462397879724847, 0.16653184289237832, 0.1546319309346028, 0.15701489654299314, 0.15947613455210544, 0.1598092697397395, 0.16194272581760533, 0.16369919170061964, 0.16516335694898626, 0.16654803440801677]\n",
      "[0.1939930029519424, 0.19290871082134012, 0.1834398091752571, 0.1849073477516186, 0.1849985766444406, 0.18158248151754902, 0.1821226259030033, 0.183325008587097, 0.16559382338990974, 0.16820860978849408, 0.17012691466960397, 0.17190727091655875, 0.17343299525957367, 0.17456706441822578, 0.17389606051588347, 0.16451157809691647, 0.1661133492309657, 0.16766221888213106, 0.1686062729798398]\n"
     ]
    },
    {
     "name": "stdout",
     "output_type": "stream",
     "text": [
      "[0.023732899399072114, 0.10650997507211737, 0.13278388862555016, 0.1407062070608166, 0.1509097235668623, 0.15772521061052672, 0.15868920371853948, 0.1620543637341816, 0.16232311913778544, 0.16462397879724847, 0.16653184289237832, 0.1546319309346028, 0.15701489654299314, 0.15947613455210544, 0.1598092697397395, 0.16194272581760533, 0.16369919170061964, 0.16516335694898626, 0.16654803440801677, 0.16780682216716822]\n",
      "[0.1939930029519424, 0.19290871082134012, 0.1834398091752571, 0.1849073477516186, 0.1849985766444406, 0.18158248151754902, 0.1821226259030033, 0.183325008587097, 0.16559382338990974, 0.16820860978849408, 0.17012691466960397, 0.17190727091655875, 0.17343299525957367, 0.17456706441822578, 0.17389606051588347, 0.16451157809691647, 0.1661133492309657, 0.16766221888213106, 0.1686062729798398, 0.16944413394163424]\n",
      "[0.023732899399072114, 0.10650997507211737, 0.13278388862555016, 0.1407062070608166, 0.1509097235668623, 0.15772521061052672, 0.15868920371853948, 0.1620543637341816, 0.16232311913778544, 0.16462397879724847, 0.16653184289237832, 0.1546319309346028, 0.15701489654299314, 0.15947613455210544, 0.1598092697397395, 0.16194272581760533, 0.16369919170061964, 0.16516335694898626, 0.16654803440801677, 0.16780682216716822, 0.1686413409083705]\n",
      "[0.1939930029519424, 0.19290871082134012, 0.1834398091752571, 0.1849073477516186, 0.1849985766444406, 0.18158248151754902, 0.1821226259030033, 0.183325008587097, 0.16559382338990974, 0.16820860978849408, 0.17012691466960397, 0.17190727091655875, 0.17343299525957367, 0.17456706441822578, 0.17389606051588347, 0.16451157809691647, 0.1661133492309657, 0.16766221888213106, 0.1686062729798398, 0.16944413394163424, 0.1705059222004018]\n",
      "[0.023732899399072114, 0.10650997507211737, 0.13278388862555016, 0.1407062070608166, 0.1509097235668623, 0.15772521061052672, 0.15868920371853948, 0.1620543637341816, 0.16232311913778544, 0.16462397879724847, 0.16653184289237832, 0.1546319309346028, 0.15701489654299314, 0.15947613455210544, 0.1598092697397395, 0.16194272581760533, 0.16369919170061964, 0.16516335694898626, 0.16654803440801677, 0.16780682216716822, 0.1686413409083705, 0.1695797822645883]\n",
      "[0.1939930029519424, 0.19290871082134012, 0.1834398091752571, 0.1849073477516186, 0.1849985766444406, 0.18158248151754902, 0.1821226259030033, 0.183325008587097, 0.16559382338990974, 0.16820860978849408, 0.17012691466960397, 0.17190727091655875, 0.17343299525957367, 0.17456706441822578, 0.17389606051588347, 0.16451157809691647, 0.1661133492309657, 0.16766221888213106, 0.1686062729798398, 0.16944413394163424, 0.1705059222004018, 0.17145979799279537]\n",
      "[0.023732899399072114, 0.10650997507211737, 0.13278388862555016, 0.1407062070608166, 0.1509097235668623, 0.15772521061052672, 0.15868920371853948, 0.1620543637341816, 0.16232311913778544, 0.16462397879724847, 0.16653184289237832, 0.1546319309346028, 0.15701489654299314, 0.15947613455210544, 0.1598092697397395, 0.16194272581760533, 0.16369919170061964, 0.16516335694898626, 0.16654803440801677, 0.16780682216716822, 0.1686413409083705, 0.1695797822645883, 0.17054256519182553]\n",
      "[0.1939930029519424, 0.19290871082134012, 0.1834398091752571, 0.1849073477516186, 0.1849985766444406, 0.18158248151754902, 0.1821226259030033, 0.183325008587097, 0.16559382338990974, 0.16820860978849408, 0.17012691466960397, 0.17190727091655875, 0.17343299525957367, 0.17456706441822578, 0.17389606051588347, 0.16451157809691647, 0.1661133492309657, 0.16766221888213106, 0.1686062729798398, 0.16944413394163424, 0.1705059222004018, 0.17145979799279537, 0.1723307280641113]\n",
      "[0.023732899399072114, 0.10650997507211737, 0.13278388862555016, 0.1407062070608166, 0.1509097235668623, 0.15772521061052672, 0.15868920371853948, 0.1620543637341816, 0.16232311913778544, 0.16462397879724847, 0.16653184289237832, 0.1546319309346028, 0.15701489654299314, 0.15947613455210544, 0.1598092697397395, 0.16194272581760533, 0.16369919170061964, 0.16516335694898626, 0.16654803440801677, 0.16780682216716822, 0.1686413409083705, 0.1695797822645883, 0.17054256519182553, 0.1702896734074418]\n",
      "[0.1939930029519424, 0.19290871082134012, 0.1834398091752571, 0.1849073477516186, 0.1849985766444406, 0.18158248151754902, 0.1821226259030033, 0.183325008587097, 0.16559382338990974, 0.16820860978849408, 0.17012691466960397, 0.17190727091655875, 0.17343299525957367, 0.17456706441822578, 0.17389606051588347, 0.16451157809691647, 0.1661133492309657, 0.16766221888213106, 0.1686062729798398, 0.16944413394163424, 0.1705059222004018, 0.17145979799279537, 0.1723307280641113, 0.16613962863695714]\n",
      "Train accuracy: 0.1702896734074418\n",
      "Val accuracy: 0.16613962863695714\n"
     ]
    },
    {
     "data": {
      "image/png": "[encoded data removed]",
      "text/plain": [
       "<Figure size 432x288 with 1 Axes>"
      ]
     },
     "metadata": {
      "needs_background": "light"
     },
     "output_type": "display_data"
    }
   ],
   "source": [
    "def run_net(Layer1, Layer2, epochs):\n",
    "    # Network (3 weigthed layers)\n",
    "    network = neuralNetwork()\n",
    "    network.add_layer(Dense(28*28, Layer1))\n",
    "    network.add_layer(ActivateLayer(sigmoidFunction, sigmoidFunction_derivative))\n",
    "    network.add_layer(Dense(Layer1, Layer2))\n",
    "    network.add_layer(ActivateLayer(sigmoidFunction, sigmoidFunction_derivative))\n",
    "    network.add_layer(Dense(Layer2, 10))\n",
    "    network.add_layer(ActivateLayer(sigmoidFunction, sigmoidFunction_derivative))\n",
    "\n",
    "    # train on 1000 samples\n",
    "    # training will be slow if we update at each iteration on 60000 samples\n",
    "    # compromise with 250 epochs for the precision & time with L1 of 100 and L2 of 50 neurons\n",
    "    network.use_lossfunc(mse_loss, mse_loss_derivative)\n",
    "    #network.train_network(X_train[0:1000], y_train[0:1000], epochs, learningRate=0.1)\n",
    "    network.plot_learning_curves(X_train[0:1000], X_test[0:1000], y_train[0:1000], y_test[0:1000], size=epochs, iterations=25, learning_rate=0.01)\n",
    "\n",
    "\n",
    "predict_digit = run_net(300, 100, 25)\n",
    "# input_layer : 784 nodes\n",
    "# Hidden Layer 1 : 300 nodes\n",
    "# Hidden Layer 2 : 100 nodes\n",
    "time.sleep(1)\n"
   ]
  },
  {
   "cell_type": "markdown",
   "metadata": {},
   "source": [
    "# B. Using a ReLU activation function"
   ]
  },
  {
   "cell_type": "code",
   "execution_count": 143,
   "metadata": {},
   "outputs": [],
   "source": [
    "def ReLU(x):\n",
    "    return x * (x > 0)\n",
    "\n",
    "def dReLU(x):\n",
    "    return 1. * (x > 0)"
   ]
  },
  {
   "cell_type": "code",
   "execution_count": 136,
   "metadata": {},
   "outputs": [
    {
     "name": "stderr",
     "output_type": "stream",
     "text": [
      "100%|██████████████████████████████████████████████████████████████████████████████████| 25/25 [00:02<00:00,  9.06it/s]\n"
     ]
    },
    {
     "name": "stdout",
     "output_type": "stream",
     "text": [
      "[0.09689822126403984]\n",
      "[0.10046600348968912]\n",
      "[0.09689822126403984, 0.09851980446143815]\n",
      "[0.10046600348968912, 0.10046600348968913]\n",
      "[0.09689822126403984, 0.09851980446143815, 0.09906033219390427]\n",
      "[0.10046600348968912, 0.10046600348968913, 0.10046600348968912]\n",
      "[0.09689822126403984, 0.09851980446143815, 0.09906033219390427, 0.09933059606013732]\n",
      "[0.10046600348968912, 0.10046600348968913, 0.10046600348968912, 0.10046600348968912]\n",
      "[0.09689822126403984, 0.09851980446143815, 0.09906033219390427, 0.09933059606013732, 0.09949275437987715]\n",
      "[0.10046600348968912, 0.10046600348968913, 0.10046600348968912, 0.10046600348968912, 0.10046600348968912]\n",
      "[0.09689822126403984, 0.09851980446143815, 0.09906033219390427, 0.09933059606013732, 0.09949275437987715, 0.09960085992637038]\n",
      "[0.10046600348968912, 0.10046600348968913, 0.10046600348968912, 0.10046600348968912, 0.10046600348968912, 0.10046600348968912]\n",
      "[0.09689822126403984, 0.09851980446143815, 0.09906033219390427, 0.09933059606013732, 0.09949275437987715, 0.09960085992637038, 0.09967807817386554]\n",
      "[0.10046600348968912, 0.10046600348968913, 0.10046600348968912, 0.10046600348968912, 0.10046600348968912, 0.10046600348968912, 0.10046600348968912]\n",
      "[0.09689822126403984, 0.09851980446143815, 0.09906033219390427, 0.09933059606013732, 0.09949275437987715, 0.09960085992637038, 0.09967807817386554, 0.09927556077165459]\n",
      "[0.10046600348968912, 0.10046600348968913, 0.10046600348968912, 0.10046600348968912, 0.10046600348968912, 0.10046600348968912, 0.10046600348968912, 0.10046600348968913]\n",
      "[0.09689822126403984, 0.09851980446143815, 0.09906033219390427, 0.09933059606013732, 0.09949275437987715, 0.09960085992637038, 0.09967807817386554, 0.09927556077165459, 0.09937176375911923]\n",
      "[0.10046600348968912, 0.10046600348968913, 0.10046600348968912, 0.10046600348968912, 0.10046600348968912, 0.10046600348968912, 0.10046600348968912, 0.10046600348968913, 0.09970569322348417]\n",
      "[0.09689822126403984, 0.09851980446143815, 0.09906033219390427, 0.09933059606013732, 0.09949275437987715, 0.09960085992637038, 0.09967807817386554, 0.09927556077165459, 0.09937176375911923, 0.09944872614909096]\n",
      "[0.10046600348968912, 0.10046600348968913, 0.10046600348968912, 0.10046600348968912, 0.10046600348968912, 0.10046600348968912, 0.10046600348968912, 0.10046600348968913, 0.09970569322348417, 0.09978172425010466]\n",
      "[0.09689822126403984, 0.09851980446143815, 0.09906033219390427, 0.09933059606013732, 0.09949275437987715, 0.09960085992637038, 0.09967807817386554, 0.09927556077165459, 0.09937176375911923, 0.09944872614909096, 0.0991768364042807]\n",
      "[0.10046600348968912, 0.10046600348968913, 0.10046600348968912, 0.10046600348968912, 0.10046600348968912, 0.10046600348968912, 0.10046600348968912, 0.10046600348968913, 0.09970569322348417, 0.09978172425010466, 0.09984393145370325]\n",
      "[0.09689822126403984, 0.09851980446143815, 0.09906033219390427, 0.09933059606013732, 0.09949275437987715, 0.09960085992637038, 0.09967807817386554, 0.09927556077165459, 0.09937176375911923, 0.09944872614909096, 0.0991768364042807, 0.09898695180926063]\n",
      "[0.10046600348968912, 0.10046600348968913, 0.10046600348968912, 0.10046600348968912, 0.10046600348968912, 0.10046600348968912, 0.10046600348968912, 0.10046600348968913, 0.09970569322348417, 0.09978172425010466, 0.09984393145370325, 0.09989577079003542]\n",
      "[0.09689822126403984, 0.09851980446143815, 0.09906033219390427, 0.09933059606013732, 0.09949275437987715, 0.09960085992637038, 0.09967807817386554, 0.09927556077165459, 0.09937176375911923, 0.09944872614909096, 0.0991768364042807, 0.09898695180926063, 0.09879241235902349]\n",
      "[0.10046600348968912, 0.10046600348968913, 0.10046600348968912, 0.10046600348968912, 0.10046600348968912, 0.10046600348968912, 0.10046600348968912, 0.10046600348968913, 0.09970569322348417, 0.09978172425010466, 0.09984393145370325, 0.09989577079003542, 0.09993963484385493]\n",
      "[0.09689822126403984, 0.09851980446143815, 0.09906033219390427, 0.09933059606013732, 0.09949275437987715, 0.09960085992637038, 0.09967807817386554, 0.09927556077165459, 0.09937176375911923, 0.09944872614909096, 0.0991768364042807, 0.09898695180926063, 0.09879241235902349, 0.09888876773758155]\n",
      "[0.10046600348968912, 0.10046600348968913, 0.10046600348968912, 0.10046600348968912, 0.10046600348968912, 0.10046600348968912, 0.10046600348968912, 0.10046600348968913, 0.09970569322348417, 0.09978172425010466, 0.09984393145370325, 0.09989577079003542, 0.09993963484385493, 0.09997723260427165]\n",
      "[0.09689822126403984, 0.09851980446143815, 0.09906033219390427, 0.09933059606013732, 0.09949275437987715, 0.09960085992637038, 0.09967807817386554, 0.09927556077165459, 0.09937176375911923, 0.09944872614909096, 0.0991768364042807, 0.09898695180926063, 0.09879241235902349, 0.09888876773758155, 0.09897227573233189]\n",
      "[0.10046600348968912, 0.10046600348968913, 0.10046600348968912, 0.10046600348968912, 0.10046600348968912, 0.10046600348968912, 0.10046600348968912, 0.10046600348968913, 0.09970569322348417, 0.09978172425010466, 0.09984393145370325, 0.09989577079003542, 0.09993963484385493, 0.09997723260427165, 0.10000981732996615]\n",
      "[0.09689822126403984, 0.09851980446143815, 0.09906033219390427, 0.09933059606013732, 0.09949275437987715, 0.09960085992637038, 0.09967807817386554, 0.09927556077165459, 0.09937176375911923, 0.09944872614909096, 0.0991768364042807, 0.09898695180926063, 0.09879241235902349, 0.09888876773758155, 0.09897227573233189, 0.09904534522773842]\n",
      "[0.10046600348968912, 0.10046600348968913, 0.10046600348968912, 0.10046600348968912, 0.10046600348968912, 0.10046600348968912, 0.10046600348968912, 0.10046600348968913, 0.09970569322348417, 0.09978172425010466, 0.09984393145370325, 0.09989577079003542, 0.09993963484385493, 0.09997723260427165, 0.10000981732996615, 0.09961065444020856]\n",
      "[0.09689822126403984, 0.09851980446143815, 0.09906033219390427, 0.09933059606013732, 0.09949275437987715, 0.09960085992637038, 0.09967807817386554, 0.09927556077165459, 0.09937176375911923, 0.09944872614909096, 0.0991768364042807, 0.09898695180926063, 0.09879241235902349, 0.09888876773758155, 0.09897227573233189, 0.09904534522773842, 0.09910981831192066]\n",
      "[0.10046600348968912, 0.10046600348968913, 0.10046600348968912, 0.10046600348968912, 0.10046600348968912, 0.10046600348968912, 0.10046600348968912, 0.10046600348968913, 0.09970569322348417, 0.09978172425010466, 0.09984393145370325, 0.09989577079003542, 0.09993963484385493, 0.09997723260427165, 0.10000981732996615, 0.09961065444020856, 0.099660969090178]\n",
      "[0.09689822126403984, 0.09851980446143815, 0.09906033219390427, 0.09933059606013732, 0.09949275437987715, 0.09960085992637038, 0.09967807817386554, 0.09927556077165459, 0.09937176375911923, 0.09944872614909096, 0.0991768364042807, 0.09898695180926063, 0.09879241235902349, 0.09888876773758155, 0.09897227573233189, 0.09904534522773842, 0.09910981831192066, 0.09916712772008264]\n",
      "[0.10046600348968912, 0.10046600348968913, 0.10046600348968912, 0.10046600348968912, 0.10046600348968912, 0.10046600348968912, 0.10046600348968912, 0.10046600348968913, 0.09970569322348417, 0.09978172425010466, 0.09984393145370325, 0.09989577079003542, 0.09993963484385493, 0.09997723260427165, 0.10000981732996615, 0.09961065444020856, 0.099660969090178, 0.09970569322348417]\n",
      "[0.09689822126403984, 0.09851980446143815, 0.09906033219390427, 0.09933059606013732, 0.09949275437987715, 0.09960085992637038, 0.09967807817386554, 0.09927556077165459, 0.09937176375911923, 0.09944872614909096, 0.0991768364042807, 0.09898695180926063, 0.09879241235902349, 0.09888876773758155, 0.09897227573233189, 0.09904534522773842, 0.09910981831192066, 0.09916712772008264, 0.09921840455896444]\n",
      "[0.10046600348968912, 0.10046600348968913, 0.10046600348968912, 0.10046600348968912, 0.10046600348968912, 0.10046600348968912, 0.10046600348968912, 0.10046600348968913, 0.09970569322348417, 0.09978172425010466, 0.09984393145370325, 0.09989577079003542, 0.09993963484385493, 0.09997723260427165, 0.10000981732996615, 0.09961065444020856, 0.099660969090178, 0.09970569322348417, 0.09941647315278619]\n",
      "[0.09689822126403984, 0.09851980446143815, 0.09906033219390427, 0.09933059606013732, 0.09949275437987715, 0.09960085992637038, 0.09967807817386554, 0.09927556077165459, 0.09937176375911923, 0.09944872614909096, 0.0991768364042807, 0.09898695180926063, 0.09879241235902349, 0.09888876773758155, 0.09897227573233189, 0.09904534522773842, 0.09910981831192066, 0.09916712772008264, 0.09921840455896444, 0.09926455371395804]\n",
      "[0.10046600348968912, 0.10046600348968913, 0.10046600348968912, 0.10046600348968912, 0.10046600348968912, 0.10046600348968912, 0.10046600348968912, 0.10046600348968913, 0.09970569322348417, 0.09978172425010466, 0.09984393145370325, 0.09989577079003542, 0.09993963484385493, 0.09997723260427165, 0.10000981732996615, 0.09961065444020856, 0.099660969090178, 0.09970569322348417, 0.09941647315278619, 0.09946894966963134]\n",
      "[0.09689822126403984, 0.09851980446143815, 0.09906033219390427, 0.09933059606013732, 0.09949275437987715, 0.09960085992637038, 0.09967807817386554, 0.09927556077165459, 0.09937176375911923, 0.09944872614909096, 0.0991768364042807, 0.09898695180926063, 0.09879241235902349, 0.09888876773758155, 0.09897227573233189, 0.09904534522773842, 0.09910981831192066, 0.09916712772008264, 0.09921840455896444, 0.09926455371395804, 0.0993063077113332]\n",
      "[0.10046600348968912, 0.10046600348968913, 0.10046600348968912, 0.10046600348968912, 0.10046600348968912, 0.10046600348968912, 0.10046600348968912, 0.10046600348968913, 0.09970569322348417, 0.09978172425010466, 0.09984393145370325, 0.09989577079003542, 0.09993963484385493, 0.09997723260427165, 0.10000981732996615, 0.09961065444020856, 0.099660969090178, 0.09970569322348417, 0.09941647315278619, 0.09946894966963134, 0.09951642842296742]\n",
      "[0.09689822126403984, 0.09851980446143815, 0.09906033219390427, 0.09933059606013732, 0.09949275437987715, 0.09960085992637038, 0.09967807817386554, 0.09927556077165459, 0.09937176375911923, 0.09944872614909096, 0.0991768364042807, 0.09898695180926063, 0.09879241235902349, 0.09888876773758155, 0.09897227573233189, 0.09904534522773842, 0.09910981831192066, 0.09916712772008264, 0.09921840455896444, 0.09926455371395804, 0.0993063077113332, 0.09934426589076518]\n",
      "[0.10046600348968912, 0.10046600348968913, 0.10046600348968912, 0.10046600348968912, 0.10046600348968912, 0.10046600348968912, 0.10046600348968912, 0.10046600348968913, 0.09970569322348417, 0.09978172425010466, 0.09984393145370325, 0.09989577079003542, 0.09993963484385493, 0.09997723260427165, 0.10000981732996615, 0.09961065444020856, 0.099660969090178, 0.09970569322348417, 0.09941647315278619, 0.09946894966963134, 0.09951642842296742, 0.09955959092600022]\n",
      "[0.09689822126403984, 0.09851980446143815, 0.09906033219390427, 0.09933059606013732, 0.09949275437987715, 0.09960085992637038, 0.09967807817386554, 0.09927556077165459, 0.09937176375911923, 0.09944872614909096, 0.0991768364042807, 0.09898695180926063, 0.09879241235902349, 0.09888876773758155, 0.09897227573233189, 0.09904534522773842, 0.09910981831192066, 0.09916712772008264, 0.09921840455896444, 0.09926455371395804, 0.0993063077113332, 0.09934426589076518, 0.09937892335894219]\n",
      "[0.10046600348968912, 0.10046600348968913, 0.10046600348968912, 0.10046600348968912, 0.10046600348968912, 0.10046600348968912, 0.10046600348968912, 0.10046600348968913, 0.09970569322348417, 0.09978172425010466, 0.09984393145370325, 0.09989577079003542, 0.09993963484385493, 0.09997723260427165, 0.10000981732996615, 0.09961065444020856, 0.099660969090178, 0.09970569322348417, 0.09941647315278619, 0.09946894966963134, 0.09951642842296742, 0.09955959092600022, 0.09959900016789973]\n",
      "[0.09689822126403984, 0.09851980446143815, 0.09906033219390427, 0.09933059606013732, 0.09949275437987715, 0.09960085992637038, 0.09967807817386554, 0.09927556077165459, 0.09937176375911923, 0.09944872614909096, 0.0991768364042807, 0.09898695180926063, 0.09879241235902349, 0.09888876773758155, 0.09897227573233189, 0.09904534522773842, 0.09910981831192066, 0.09916712772008264, 0.09921840455896444, 0.09926455371395804, 0.0993063077113332, 0.09934426589076518, 0.09937892335894219, 0.09941069270477113]\n",
      "[0.10046600348968912, 0.10046600348968913, 0.10046600348968912, 0.10046600348968912, 0.10046600348968912, 0.10046600348968912, 0.10046600348968912, 0.10046600348968913, 0.09970569322348417, 0.09978172425010466, 0.09984393145370325, 0.09989577079003542, 0.09993963484385493, 0.09997723260427165, 0.10000981732996615, 0.09961065444020856, 0.099660969090178, 0.09970569322348417, 0.09941647315278619, 0.09946894966963134, 0.09951642842296742, 0.09955959092600022, 0.09959900016789973, 0.09935000895648076]\n",
      "Train accuracy: 0.09941069270477113\n",
      "Val accuracy: 0.09935000895648076\n"
     ]
    },
    {
     "data": {
      "image/png": "[encoded data removed]",
      "text/plain": [
       "<Figure size 432x288 with 1 Axes>"
      ]
     },
     "metadata": {
      "needs_background": "light"
     },
     "output_type": "display_data"
    }
   ],
   "source": [
    "def run_net(Layer1, Layer2, epochs):\n",
    "    # Network (3 weigthed layers)\n",
    "    network = neuralNetwork()\n",
    "    network.add_layer(Dense(28*28, Layer1))\n",
    "    network.add_layer(ActivateLayer(ReLU, dReLU))\n",
    "    network.add_layer(Dense(Layer1, Layer2))\n",
    "    network.add_layer(ActivateLayer(ReLU,dReLU))\n",
    "    network.add_layer(Dense(Layer2, 10))\n",
    "    network.add_layer(ActivateLayer(ReLU, dReLU))\n",
    "\n",
    "    # train on 1000 samples\n",
    "    # training will be slow if we update at each iteration on 60000 samples\n",
    "    # compromise with 250 epochs for the precision & time with L1 of 100 and L2 of 50 neurons\n",
    "    network.use_lossfunc(mse_loss, mse_loss_derivative)\n",
    "    #network.train_network(X_train[0:1000], y_train[0:1000], epochs, learningRate=0.1)\n",
    "    network.plot_learning_curves(X_train[0:1000], X_test[0:1000], y_train[0:1000], y_test[0:1000], size=epochs, iterations=25, learning_rate=0.01)\n",
    "\n",
    "\n",
    "predict_digit = run_net(300, 100, 25)\n",
    "# input_layer : 784 nodes\n",
    "# Hidden Layer 1 : 300 nodes\n",
    "# Hidden Layer 2 : 100 nodes\n"
   ]
  },
  {
   "cell_type": "code",
   "execution_count": null,
   "metadata": {},
   "outputs": [],
   "source": []
  }
 ],
 "metadata": {
  "celltoolbar": "Format de la Cellule Texte Brut",
  "kernelspec": {
   "display_name": "Python 3",
   "language": "python",
   "name": "python3"
  },
  "language_info": {
   "codemirror_mode": {
    "name": "ipython",
    "version": 3
   },
   "file_extension": ".py",
   "mimetype": "text/x-python",
   "name": "python",
   "nbconvert_exporter": "python",
   "pygments_lexer": "ipython3",
   "version": "3.7.2"
  }
 },
 "nbformat": 4,
 "nbformat_minor": 2
}
