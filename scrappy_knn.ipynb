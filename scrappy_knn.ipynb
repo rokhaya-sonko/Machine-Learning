{
 "cells": [
  {
   "cell_type": "markdown",
   "metadata": {},
   "source": [
    "## Objectives\n",
    "  * Fundamental classifier concepts\n",
    "  * Build `KNeighborhsClassifer` from scratch\n",
    "  * Evaluate the accuracy of the model's predictions using Root Mean Squared Error (RMSE)\n",
    "  * Improve the accuracy of the model by tuning its hyperparameters"
   ]
  },
  {
   "cell_type": "markdown",
   "metadata": {},
   "source": [
    "## Data : Iris Flowers data set"
   ]
  },
  {
   "cell_type": "code",
   "execution_count": 185,
   "metadata": {},
   "outputs": [],
   "source": [
    "from sklearn.datasets import load_iris\n",
    "iris_data=load_iris()\n",
    "X=iris_data.data\n",
    "y=iris_data.target"
   ]
  },
  {
   "cell_type": "code",
   "execution_count": 186,
   "metadata": {},
   "outputs": [],
   "source": [
    "from sklearn.model_selection import train_test_split\n",
    "X_train,X_test,y_train,y_test=train_test_split(X,y, random_state=42)"
   ]
  },
  {
   "cell_type": "code",
   "execution_count": 188,
   "metadata": {},
   "outputs": [],
   "source": [
    "from scipy.spatial import distance\n",
    "def euclidian_distance(a,b):\n",
    "    return distance.euclidean(a,b)\n",
    "    "
   ]
  },
  {
   "cell_type": "code",
   "execution_count": 198,
   "metadata": {},
   "outputs": [],
   "source": [
    "class ScrappyKNN():\n",
    "    \n",
    "    def fit(self,X_train,y_train):\n",
    "        self.X_train=X_train\n",
    "        self.y_train=y_train\n",
    "        \n",
    "    def predict(self,X_test):\n",
    "        predictions=[]\n",
    "        for row in X_test:\n",
    "            label=self.closest(row)\n",
    "            predictions.append(label)\n",
    "        return predictions\n",
    "    \n",
    "    def closest(self,row):\n",
    "        best_dist=euclidian_distance(row,self.X_train[0])\n",
    "        best_index=0\n",
    "        for i in range(1,len(self.X_train)):\n",
    "            dist=euclidian_distance(row,self.X_train[i])\n",
    "            if dist < best_dist:\n",
    "                best_dist=dist\n",
    "                best_index=i\n",
    "        return self.y_train[best_index]"
   ]
  },
  {
   "cell_type": "markdown",
   "metadata": {},
   "source": [
    "---\n",
    "Test on Iris data\n",
    "\n",
    "---"
   ]
  },
  {
   "cell_type": "code",
   "execution_count": 200,
   "metadata": {},
   "outputs": [],
   "source": [
    "knn=ScrappyKNN()\n",
    "knn.fit(X_train,y_train)\n",
    "predictions=knn.predict(X_test)"
   ]
  },
  {
   "cell_type": "code",
   "execution_count": 202,
   "metadata": {},
   "outputs": [
    {
     "name": "stdout",
     "output_type": "stream",
     "text": [
      "On test data, [4.6 3.6 1.  0.2] is labeled : 0\n",
      "Our classifer considers [4.6 3.6 1.  0.2] as: 0\n"
     ]
    }
   ],
   "source": [
    "print(\"On test data,\",X_test[30],\"is labeled :\",y_test[30])\n",
    "print(\"Our classifer considers\",X_test[30],\"as:\",predictions[30])"
   ]
  },
  {
   "cell_type": "code",
   "execution_count": 203,
   "metadata": {},
   "outputs": [
    {
     "name": "stdout",
     "output_type": "stream",
     "text": [
      "With our classifier, we have an accuracy of 100.0 %\n"
     ]
    }
   ],
   "source": [
    "from sklearn.metrics import accuracy_score\n",
    "print(\"With our classifier, we have an accuracy of\",accuracy_score(y_test,predictions)*100,\"%\")"
   ]
  },
  {
   "cell_type": "markdown",
   "metadata": {},
   "source": [
    "### Pros\n",
    "- Relatively simple\n",
    "\n",
    "### Cons\n",
    "- Computationnally intensive\n",
    "- Hard to represent relationships\n"
   ]
  },
  {
   "cell_type": "code",
   "execution_count": null,
   "metadata": {},
   "outputs": [],
   "source": []
  }
 ],
 "metadata": {
  "kernelspec": {
   "display_name": "Python 3",
   "language": "python",
   "name": "python3"
  },
  "language_info": {
   "codemirror_mode": {
    "name": "ipython",
    "version": 3
   },
   "file_extension": ".py",
   "mimetype": "text/x-python",
   "name": "python",
   "nbconvert_exporter": "python",
   "pygments_lexer": "ipython3",
   "version": "3.7.2"
  }
 },
 "nbformat": 4,
 "nbformat_minor": 2
}
